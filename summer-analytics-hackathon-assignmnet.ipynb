{
 "cells": [
  {
   "cell_type": "code",
   "execution_count": 1,
   "id": "26d0dd91",
   "metadata": {
    "_cell_guid": "b1076dfc-b9ad-4769-8c92-a6c4dae69d19",
    "_uuid": "8f2839f25d086af736a60e9eeb907d3b93b6e0e5",
    "execution": {
     "iopub.execute_input": "2025-06-15T04:54:26.681661Z",
     "iopub.status.busy": "2025-06-15T04:54:26.681398Z",
     "iopub.status.idle": "2025-06-15T04:54:28.251635Z",
     "shell.execute_reply": "2025-06-15T04:54:28.250819Z"
    },
    "papermill": {
     "duration": 1.574244,
     "end_time": "2025-06-15T04:54:28.252801",
     "exception": false,
     "start_time": "2025-06-15T04:54:26.678557",
     "status": "completed"
    },
    "tags": []
   },
   "outputs": [
    {
     "name": "stdout",
     "output_type": "stream",
     "text": [
      "/kaggle/input/summer-analytics-mid-hackathon/hacktest.csv\n",
      "/kaggle/input/summer-analytics-mid-hackathon/hacktrain.csv\n"
     ]
    }
   ],
   "source": [
    "# This Python 3 environment comes with many helpful analytics libraries installed\n",
    "# It is defined by the kaggle/python Docker image: https://github.com/kaggle/docker-python\n",
    "# For example, here's several helpful packages to load\n",
    "\n",
    "import numpy as np # linear algebra\n",
    "import pandas as pd # data processing, CSV file I/O (e.g. pd.read_csv)\n",
    "\n",
    "# Input data files are available in the read-only \"../input/\" directory\n",
    "# For example, running this (by clicking run or pressing Shift+Enter) will list all files under the input directory\n",
    "\n",
    "import os\n",
    "for dirname, _, filenames in os.walk('/kaggle/input'):\n",
    "    for filename in filenames:\n",
    "        print(os.path.join(dirname, filename))\n",
    "\n",
    "# You can write up to 20GB to the current directory (/kaggle/working/) that gets preserved as output when you create a version using \"Save & Run All\" \n",
    "# You can also write temporary files to /kaggle/temp/, but they won't be saved outside of the current session"
   ]
  },
  {
   "cell_type": "code",
   "execution_count": 2,
   "id": "2deb9e7f",
   "metadata": {
    "execution": {
     "iopub.execute_input": "2025-06-15T04:54:28.256830Z",
     "iopub.status.busy": "2025-06-15T04:54:28.256476Z",
     "iopub.status.idle": "2025-06-15T04:54:36.477216Z",
     "shell.execute_reply": "2025-06-15T04:54:36.476500Z"
    },
    "papermill": {
     "duration": 8.22419,
     "end_time": "2025-06-15T04:54:36.478573",
     "exception": false,
     "start_time": "2025-06-15T04:54:28.254383",
     "status": "completed"
    },
    "tags": []
   },
   "outputs": [
    {
     "name": "stdout",
     "output_type": "stream",
     "text": [
      "              precision    recall  f1-score   support\n",
      "\n",
      "        farm       0.89      0.86      0.87       168\n",
      "      forest       0.99      1.00      0.99      1232\n",
      "       grass       0.80      0.72      0.76        39\n",
      "  impervious       0.83      0.90      0.86       134\n",
      "     orchard       0.75      0.50      0.60         6\n",
      "       water       0.90      0.86      0.88        21\n",
      "\n",
      "    accuracy                           0.96      1600\n",
      "   macro avg       0.86      0.81      0.83      1600\n",
      "weighted avg       0.96      0.96      0.96      1600\n",
      "\n",
      "Validation Accuracy: 0.9625\n"
     ]
    }
   ],
   "source": [
    "import numpy as np\n",
    "import pandas as pd\n",
    "from sklearn.linear_model import LogisticRegression\n",
    "from sklearn.model_selection import train_test_split\n",
    "from sklearn.preprocessing import LabelEncoder, StandardScaler\n",
    "from sklearn.impute import KNNImputer\n",
    "from sklearn.metrics import classification_report, accuracy_score\n",
    "\n",
    "# Load data\n",
    "train_df = pd.read_csv(\"/kaggle/input/summer-analytics-mid-hackathon/hacktrain.csv\")\n",
    "test_df = pd.read_csv(\"/kaggle/input/summer-analytics-mid-hackathon/hacktest.csv\")\n",
    "\n",
    "# Save test IDs\n",
    "test_ID = test_df['ID']\n",
    "test_df.drop(columns=['ID'], inplace=True)\n",
    "\n",
    "# Drop ID column from train\n",
    "train_df.drop(columns=['ID'], inplace=True)\n",
    "\n",
    "# Encode target\n",
    "label_encoder = LabelEncoder()\n",
    "train_df['class'] = label_encoder.fit_transform(train_df['class'])\n",
    "\n",
    "# Split into features/target\n",
    "X = train_df.drop(columns=['class'])\n",
    "y = train_df['class']\n",
    "\n",
    "# Impute missing values\n",
    "imputer = KNNImputer(n_neighbors=5)\n",
    "X = imputer.fit_transform(X)\n",
    "test_df = imputer.transform(test_df)\n",
    "\n",
    "# Scale\n",
    "scaler = StandardScaler()\n",
    "X = scaler.fit_transform(X)\n",
    "test_df = scaler.transform(test_df)\n",
    "\n",
    "# Train/validation split\n",
    "X_train, X_val, y_train, y_val = train_test_split(X, y, test_size=0.2, random_state=42, stratify=y)\n",
    "\n",
    "# Fit model\n",
    "model = LogisticRegression(max_iter=1000)\n",
    "model.fit(X_train, y_train)\n",
    "\n",
    "# Evaluate\n",
    "val_preds = model.predict(X_val)\n",
    "print(classification_report(y_val, val_preds, target_names=label_encoder.classes_))\n",
    "print(\"Validation Accuracy:\", accuracy_score(y_val, val_preds))\n",
    "\n",
    "# Predict on test data\n",
    "test_preds = model.predict(test_df)\n",
    "test_preds_decoded = label_encoder.inverse_transform(test_preds)\n",
    "\n",
    "# Submission\n",
    "submission = pd.DataFrame({\n",
    "    'ID': test_ID,\n",
    "    'class': test_preds_decoded\n",
    "})\n",
    "submission.to_csv(\"submission.csv\", index=False)\n"
   ]
  }
 ],
 "metadata": {
  "kaggle": {
   "accelerator": "none",
   "dataSources": [
    {
     "databundleVersionId": 12585144,
     "sourceId": 104491,
     "sourceType": "competition"
    }
   ],
   "dockerImageVersionId": 31040,
   "isGpuEnabled": false,
   "isInternetEnabled": true,
   "language": "python",
   "sourceType": "notebook"
  },
  "kernelspec": {
   "display_name": "Python 3",
   "language": "python",
   "name": "python3"
  },
  "language_info": {
   "codemirror_mode": {
    "name": "ipython",
    "version": 3
   },
   "file_extension": ".py",
   "mimetype": "text/x-python",
   "name": "python",
   "nbconvert_exporter": "python",
   "pygments_lexer": "ipython3",
   "version": "3.11.11"
  },
  "papermill": {
   "default_parameters": {},
   "duration": 16.923621,
   "end_time": "2025-06-15T04:54:39.903511",
   "environment_variables": {},
   "exception": null,
   "input_path": "__notebook__.ipynb",
   "output_path": "__notebook__.ipynb",
   "parameters": {},
   "start_time": "2025-06-15T04:54:22.979890",
   "version": "2.6.0"
  }
 },
 "nbformat": 4,
 "nbformat_minor": 5
}
